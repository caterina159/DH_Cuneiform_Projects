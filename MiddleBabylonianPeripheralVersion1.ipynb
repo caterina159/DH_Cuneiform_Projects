{
 "cells": [
  {
   "cell_type": "code",
   "execution_count": null,
   "id": "498f0116-9189-4407-858a-dea62176a443",
   "metadata": {},
   "outputs": [],
   "source": [
    "import pandas as pd\n",
    "import os\n",
    "import stat\n",
    "file_path = r\"C:\\Users\\keric\\Downloads\\train.csv\\train.csv\"\n",
    "os.chmod(file_path, stat.S_IRWXU)\n",
    "cuneiform = pd.read_csv(file_path)\n",
    "#print(cuneiform.head())\n",
    "#check if the language is Middle Babylonian Peripheral or not\n",
    "#create binary target - Middle Babylonian Peripheral or not\n",
    "cuneiform[\"lang\"]=(cuneiform[\"lang\"]==\"MPB\").astype(int)\n",
    "#extract the first 5 symbols - I will base the classifier on the first 5 symbols in each text\n",
    "for i in range(0, 5):\n",
    "    cuneiform[f\"c{i}\"] = cuneiform[\"cuneiform\"].str[i]\n",
    "cuneiform = cuneiform.drop([\"cuneiform\"],axis=1)\n",
    "#Replace NaN - some of the texts are shorter than five symbols which will result in NaN for those symbols. Replace them with an empty string\n",
    "cuneiform = cuneiform.fillna(\"\")\n",
    "\n"
   ]
  },
  {
   "cell_type": "code",
   "execution_count": 40,
   "id": "887366d5-2562-417b-8bbb-c0a3edeef293",
   "metadata": {},
   "outputs": [
    {
     "name": "stdout",
     "output_type": "stream",
     "text": [
      "Collecting feyn\n",
      "  Downloading feyn-3.4.0-cp312-cp312-win_amd64.whl.metadata (2.7 kB)\n",
      "Requirement already satisfied: numpy>=1.26.0 in c:\\users\\keric\\anaconda3\\lib\\site-packages (from feyn) (1.26.4)\n",
      "Requirement already satisfied: pynacl in c:\\users\\keric\\anaconda3\\lib\\site-packages (from feyn) (1.5.0)\n",
      "Requirement already satisfied: pandas in c:\\users\\keric\\anaconda3\\lib\\site-packages (from feyn) (2.2.2)\n",
      "Collecting lark (from feyn)\n",
      "  Downloading lark-1.2.2-py3-none-any.whl.metadata (1.8 kB)\n",
      "Collecting svgwrite (from feyn)\n",
      "  Downloading svgwrite-1.4.3-py3-none-any.whl.metadata (8.8 kB)\n",
      "Requirement already satisfied: matplotlib>=3.7.0 in c:\\users\\keric\\anaconda3\\lib\\site-packages (from feyn) (3.9.2)\n",
      "Requirement already satisfied: scikit-learn in c:\\users\\keric\\anaconda3\\lib\\site-packages (from feyn) (1.5.1)\n",
      "Requirement already satisfied: sympy in c:\\users\\keric\\anaconda3\\lib\\site-packages (from feyn) (1.13.2)\n",
      "Requirement already satisfied: contourpy>=1.0.1 in c:\\users\\keric\\anaconda3\\lib\\site-packages (from matplotlib>=3.7.0->feyn) (1.2.0)\n",
      "Requirement already satisfied: cycler>=0.10 in c:\\users\\keric\\anaconda3\\lib\\site-packages (from matplotlib>=3.7.0->feyn) (0.11.0)\n",
      "Requirement already satisfied: fonttools>=4.22.0 in c:\\users\\keric\\anaconda3\\lib\\site-packages (from matplotlib>=3.7.0->feyn) (4.51.0)\n",
      "Requirement already satisfied: kiwisolver>=1.3.1 in c:\\users\\keric\\anaconda3\\lib\\site-packages (from matplotlib>=3.7.0->feyn) (1.4.4)\n",
      "Requirement already satisfied: packaging>=20.0 in c:\\users\\keric\\anaconda3\\lib\\site-packages (from matplotlib>=3.7.0->feyn) (24.1)\n",
      "Requirement already satisfied: pillow>=8 in c:\\users\\keric\\anaconda3\\lib\\site-packages (from matplotlib>=3.7.0->feyn) (10.4.0)\n",
      "Requirement already satisfied: pyparsing>=2.3.1 in c:\\users\\keric\\anaconda3\\lib\\site-packages (from matplotlib>=3.7.0->feyn) (3.1.2)\n",
      "Requirement already satisfied: python-dateutil>=2.7 in c:\\users\\keric\\anaconda3\\lib\\site-packages (from matplotlib>=3.7.0->feyn) (2.9.0.post0)\n",
      "Requirement already satisfied: pytz>=2020.1 in c:\\users\\keric\\anaconda3\\lib\\site-packages (from pandas->feyn) (2024.1)\n",
      "Requirement already satisfied: tzdata>=2022.7 in c:\\users\\keric\\anaconda3\\lib\\site-packages (from pandas->feyn) (2023.3)\n",
      "Requirement already satisfied: cffi>=1.4.1 in c:\\users\\keric\\anaconda3\\lib\\site-packages (from pynacl->feyn) (1.17.1)\n",
      "Requirement already satisfied: scipy>=1.6.0 in c:\\users\\keric\\anaconda3\\lib\\site-packages (from scikit-learn->feyn) (1.13.1)\n",
      "Requirement already satisfied: joblib>=1.2.0 in c:\\users\\keric\\anaconda3\\lib\\site-packages (from scikit-learn->feyn) (1.4.2)\n",
      "Requirement already satisfied: threadpoolctl>=3.1.0 in c:\\users\\keric\\anaconda3\\lib\\site-packages (from scikit-learn->feyn) (3.5.0)\n",
      "Requirement already satisfied: mpmath<1.4,>=1.1.0 in c:\\users\\keric\\anaconda3\\lib\\site-packages (from sympy->feyn) (1.3.0)\n",
      "Requirement already satisfied: pycparser in c:\\users\\keric\\anaconda3\\lib\\site-packages (from cffi>=1.4.1->pynacl->feyn) (2.21)\n",
      "Requirement already satisfied: six>=1.5 in c:\\users\\keric\\anaconda3\\lib\\site-packages (from python-dateutil>=2.7->matplotlib>=3.7.0->feyn) (1.16.0)\n",
      "Downloading feyn-3.4.0-cp312-cp312-win_amd64.whl (238 kB)\n",
      "Downloading lark-1.2.2-py3-none-any.whl (111 kB)\n",
      "Downloading svgwrite-1.4.3-py3-none-any.whl (67 kB)\n",
      "Installing collected packages: svgwrite, lark, feyn\n",
      "Successfully installed feyn-3.4.0 lark-1.2.2 svgwrite-1.4.3\n"
     ]
    }
   ],
   "source": [
    "!pip install feyn"
   ]
  },
  {
   "cell_type": "code",
   "execution_count": null,
   "id": "73e86b05-9368-4a90-a2f3-9e6ac4fb4ade",
   "metadata": {},
   "outputs": [],
   "source": [
    "import feyn\n",
    "#Split the dataset in train/test - for now I'll only use 10% for training. This leaves a lot of room for validation\n",
    "train, validation = feyn.tools.split(cuneiform,ratio=(1,9), random_state=42)\n",
    "#Allocate a QLattice - the actual QLattice is a quantum simulator that runs on Abzu's hardware, but I can allocate one to use for my analysis\n",
    "q_lattice = feyn.connect_qlattice()\n",
    "q_lattice.reset(random_seed=42)\n",
    "#Data types - all of the symbols are categorical variables. The QLattice will work fine with these.I just need to tell it about it. I will create a dict named stypes\n",
    "stypes={\n",
    "    \"c0\": \"cat\",\n",
    "    \"c1\": \"cat\",\n",
    "    \"c2\": \"cat\",\n",
    "    \"c3\": \"cat\",\n",
    "    \"c4\": \"cat\",\n",
    "}\n",
    "#Search for the best model - I am now ready to instruct the QLattice to search for the best mathematical model to explain the data\n",
    "#the stypes dictionary I created earlier gets passed to the QLattice\n",
    "models = q_lattice.auto_run(train, output_name=\"lang\", kind=\"classification\", n_epochs=25, stypes=stypes)\n",
    "models[0].plot_roc_curve(train, label=\"Training data\")\n",
    "models[0].plot_roc_curve(validation, label=\"Validation data\")"
   ]
  },
  {
   "cell_type": "code",
   "execution_count": null,
   "id": "6c4e77de-6112-42f1-aa85-6088355d1fd3",
   "metadata": {},
   "outputs": [],
   "source": []
  }
 ],
 "metadata": {
  "kernelspec": {
   "display_name": "Python 3 (ipykernel)",
   "language": "python",
   "name": "python3"
  },
  "language_info": {
   "codemirror_mode": {
    "name": "ipython",
    "version": 3
   },
   "file_extension": ".py",
   "mimetype": "text/x-python",
   "name": "python",
   "nbconvert_exporter": "python",
   "pygments_lexer": "ipython3",
   "version": "3.12.7"
  }
 },
 "nbformat": 4,
 "nbformat_minor": 5
}
